{
 "cells": [
  {
   "cell_type": "markdown",
   "id": "3ef0aa5d",
   "metadata": {},
   "source": [
    "# Aplicação de K-nearest neighbors (KNN)"
   ]
  },
  {
   "cell_type": "code",
   "execution_count": 1,
   "id": "74259811",
   "metadata": {},
   "outputs": [],
   "source": [
    "import pandas as pd\n",
    "import matplotlib.pyplot as plt\n",
    "import numpy as np \n",
    "from sklearn import model_selection \n",
    "from sklearn.neighbors import KNeighborsClassifier \n",
    "from sklearn.metrics import confusion_matrix, ConfusionMatrixDisplay\n",
    "from sklearn.metrics import accuracy_score, precision_score, recall_score, f1_score, classification_report\n",
    "\n",
    "from sklearn.preprocessing import MinMaxScaler"
   ]
  },
  {
   "cell_type": "code",
   "execution_count": 2,
   "id": "9ddac00c",
   "metadata": {},
   "outputs": [],
   "source": [
    "# Carregando os dados\n",
    "df = pd.read_csv(\"data/exemplo_class.csv\", names=['temperatura', 'pressão', 'label'])"
   ]
  },
  {
   "cell_type": "code",
   "execution_count": 3,
   "id": "2b54ccbd",
   "metadata": {},
   "outputs": [
    {
     "data": {
      "image/png": "[encoded data removed]",
      "text/plain": [
       "<Figure size 640x480 with 1 Axes>"
      ]
     },
     "metadata": {},
     "output_type": "display_data"
    }
   ],
   "source": [
    "# Plotando a distribuição dos dados em função do Label\n",
    "plt.scatter(df.loc[df['label'] == 0, 'temperatura'], df.loc[df['label'] == 0, 'pressão'], c='blue', s=20, label='0')\n",
    "\n",
    "plt.scatter(df.loc[df['label'] == 1, 'temperatura'], df.loc[df['label'] == 1, 'pressão'], c='red', s=20, label='1')\n",
    "plt.xlabel('Temparatura ($^o$C)')\n",
    "plt.ylabel('Pressão (bar)')\n",
    "plt.legend()\n",
    "plt.show()"
   ]
  },
  {
   "cell_type": "code",
   "execution_count": 4,
   "id": "c2295b9c",
   "metadata": {},
   "outputs": [],
   "source": [
    "# Escolhendo as features e o target\n",
    "feature_cols = ['temperatura', 'pressão']\n",
    "X = df[feature_cols]\n",
    "y = df.label\n",
    "\n",
    "# Dividindo o dataset em conjunto de treino e teste\n",
    "X_train, X_test, y_train, y_test = model_selection.train_test_split(X, y, test_size=0.3, random_state=42)"
   ]
  },
  {
   "cell_type": "code",
   "execution_count": 5,
   "id": "9446df2a",
   "metadata": {},
   "outputs": [
    {
     "data": {
      "text/html": [
       "<style>#sk-container-id-1 {color: black;background-color: white;}#sk-container-id-1 pre{padding: 0;}#sk-container-id-1 div.sk-toggleable {background-color: white;}#sk-container-id-1 label.sk-toggleable__label {cursor: pointer;display: block;width: 100%;margin-bottom: 0;padding: 0.3em;box-sizing: border-box;text-align: center;}#sk-container-id-1 label.sk-toggleable__label-arrow:before {content: \"▸\";float: left;margin-right: 0.25em;color: #696969;}#sk-container-id-1 label.sk-toggleable__label-arrow:hover:before {color: black;}#sk-container-id-1 div.sk-estimator:hover label.sk-toggleable__label-arrow:before {color: black;}#sk-container-id-1 div.sk-toggleable__content {max-height: 0;max-width: 0;overflow: hidden;text-align: left;background-color: #f0f8ff;}#sk-container-id-1 div.sk-toggleable__content pre {margin: 0.2em;color: black;border-radius: 0.25em;background-color: #f0f8ff;}#sk-container-id-1 input.sk-toggleable__control:checked~div.sk-toggleable__content {max-height: 200px;max-width: 100%;overflow: auto;}#sk-container-id-1 input.sk-toggleable__control:checked~label.sk-toggleable__label-arrow:before {content: \"▾\";}#sk-container-id-1 div.sk-estimator input.sk-toggleable__control:checked~label.sk-toggleable__label {background-color: #d4ebff;}#sk-container-id-1 div.sk-label input.sk-toggleable__control:checked~label.sk-toggleable__label {background-color: #d4ebff;}#sk-container-id-1 input.sk-hidden--visually {border: 0;clip: rect(1px 1px 1px 1px);clip: rect(1px, 1px, 1px, 1px);height: 1px;margin: -1px;overflow: hidden;padding: 0;position: absolute;width: 1px;}#sk-container-id-1 div.sk-estimator {font-family: monospace;background-color: #f0f8ff;border: 1px dotted black;border-radius: 0.25em;box-sizing: border-box;margin-bottom: 0.5em;}#sk-container-id-1 div.sk-estimator:hover {background-color: #d4ebff;}#sk-container-id-1 div.sk-parallel-item::after {content: \"\";width: 100%;border-bottom: 1px solid gray;flex-grow: 1;}#sk-container-id-1 div.sk-label:hover label.sk-toggleable__label {background-color: #d4ebff;}#sk-container-id-1 div.sk-serial::before {content: \"\";position: absolute;border-left: 1px solid gray;box-sizing: border-box;top: 0;bottom: 0;left: 50%;z-index: 0;}#sk-container-id-1 div.sk-serial {display: flex;flex-direction: column;align-items: center;background-color: white;padding-right: 0.2em;padding-left: 0.2em;position: relative;}#sk-container-id-1 div.sk-item {position: relative;z-index: 1;}#sk-container-id-1 div.sk-parallel {display: flex;align-items: stretch;justify-content: center;background-color: white;position: relative;}#sk-container-id-1 div.sk-item::before, #sk-container-id-1 div.sk-parallel-item::before {content: \"\";position: absolute;border-left: 1px solid gray;box-sizing: border-box;top: 0;bottom: 0;left: 50%;z-index: -1;}#sk-container-id-1 div.sk-parallel-item {display: flex;flex-direction: column;z-index: 1;position: relative;background-color: white;}#sk-container-id-1 div.sk-parallel-item:first-child::after {align-self: flex-end;width: 50%;}#sk-container-id-1 div.sk-parallel-item:last-child::after {align-self: flex-start;width: 50%;}#sk-container-id-1 div.sk-parallel-item:only-child::after {width: 0;}#sk-container-id-1 div.sk-dashed-wrapped {border: 1px dashed gray;margin: 0 0.4em 0.5em 0.4em;box-sizing: border-box;padding-bottom: 0.4em;background-color: white;}#sk-container-id-1 div.sk-label label {font-family: monospace;font-weight: bold;display: inline-block;line-height: 1.2em;}#sk-container-id-1 div.sk-label-container {text-align: center;}#sk-container-id-1 div.sk-container {/* jupyter's `normalize.less` sets `[hidden] { display: none; }` but bootstrap.min.css set `[hidden] { display: none !important; }` so we also need the `!important` here to be able to override the default hidden behavior on the sphinx rendered scikit-learn.org. See: https://github.com/scikit-learn/scikit-learn/issues/21755 */display: inline-block !important;position: relative;}#sk-container-id-1 div.sk-text-repr-fallback {display: none;}</style><div id=\"sk-container-id-1\" class=\"sk-top-container\"><div class=\"sk-text-repr-fallback\"><pre>KNeighborsClassifier(n_neighbors=3)</pre><b>In a Jupyter environment, please rerun this cell to show the HTML representation or trust the notebook. <br />On GitHub, the HTML representation is unable to render, please try loading this page with nbviewer.org.</b></div><div class=\"sk-container\" hidden><div class=\"sk-item\"><div class=\"sk-estimator sk-toggleable\"><input class=\"sk-toggleable__control sk-hidden--visually\" id=\"sk-estimator-id-1\" type=\"checkbox\" checked><label for=\"sk-estimator-id-1\" class=\"sk-toggleable__label sk-toggleable__label-arrow\">KNeighborsClassifier</label><div class=\"sk-toggleable__content\"><pre>KNeighborsClassifier(n_neighbors=3)</pre></div></div></div></div></div>"
      ],
      "text/plain": [
       "KNeighborsClassifier(n_neighbors=3)"
      ]
     },
     "execution_count": 5,
     "metadata": {},
     "output_type": "execute_result"
    }
   ],
   "source": [
    "# Treinando o modelo KNN usando o dataset de treinamento\n",
    "knn =  KNeighborsClassifier(n_neighbors = 3)\n",
    "knn.fit(X_train,y_train) "
   ]
  },
  {
   "cell_type": "code",
   "execution_count": 6,
   "id": "dfa157ad",
   "metadata": {},
   "outputs": [],
   "source": [
    "# Predições com o dataset de teste\n",
    "y_pred_class = knn.predict(X_test)"
   ]
  },
  {
   "cell_type": "code",
   "execution_count": 7,
   "id": "57fce4c8",
   "metadata": {},
   "outputs": [
    {
     "name": "stdout",
     "output_type": "stream",
     "text": [
      "0.7333333333333333\n"
     ]
    }
   ],
   "source": [
    "# Calculo da acurácia (accuracy)\n",
    "print(accuracy_score(y_test, y_pred_class ))"
   ]
  },
  {
   "cell_type": "code",
   "execution_count": 8,
   "id": "d27eb0ab",
   "metadata": {},
   "outputs": [
    {
     "data": {
      "text/plain": [
       "0    37\n",
       "1    23\n",
       "Name: label, dtype: int64"
      ]
     },
     "execution_count": 8,
     "metadata": {},
     "output_type": "execute_result"
    }
   ],
   "source": [
    "# Examina a distribuição de label do conjunto de teste\n",
    "y_test.value_counts()"
   ]
  },
  {
   "cell_type": "code",
   "execution_count": 9,
   "id": "f921725e",
   "metadata": {},
   "outputs": [
    {
     "data": {
      "text/plain": [
       "0.38333333333333336"
      ]
     },
     "execution_count": 9,
     "metadata": {},
     "output_type": "execute_result"
    }
   ],
   "source": [
    "# Calculando a percentagem de 'um'\n",
    "y_test.mean()"
   ]
  },
  {
   "cell_type": "code",
   "execution_count": 10,
   "id": "17b67556",
   "metadata": {},
   "outputs": [
    {
     "data": {
      "text/plain": [
       "0.6166666666666667"
      ]
     },
     "execution_count": 10,
     "metadata": {},
     "output_type": "execute_result"
    }
   ],
   "source": [
    "# Calculando a percentagem de 'zero'\n",
    "1 - y_test.mean()"
   ]
  },
  {
   "cell_type": "code",
   "execution_count": 11,
   "id": "59371c3f",
   "metadata": {},
   "outputs": [
    {
     "data": {
      "text/plain": [
       "0.6166666666666667"
      ]
     },
     "execution_count": 11,
     "metadata": {},
     "output_type": "execute_result"
    }
   ],
   "source": [
    "# Calculando precisão nula (para problemas de classificação binária codificados como 0/1)\n",
    "max(y_test.mean(), 1 - y_test.mean())"
   ]
  },
  {
   "cell_type": "code",
   "execution_count": 12,
   "id": "d0a6a82a",
   "metadata": {},
   "outputs": [
    {
     "data": {
      "text/plain": [
       "0    0.616667\n",
       "Name: label, dtype: float64"
      ]
     },
     "execution_count": 12,
     "metadata": {},
     "output_type": "execute_result"
    }
   ],
   "source": [
    "# Calculando precisão nula (para problemas de classificação multiclasse)\n",
    "y_test.value_counts().head(1) / len(y_test)"
   ]
  },
  {
   "cell_type": "code",
   "execution_count": 13,
   "id": "f7f4b70d",
   "metadata": {},
   "outputs": [
    {
     "name": "stdout",
     "output_type": "stream",
     "text": [
      "True: [0 0 0 0 1 1 0 1 0 0 0 0 0 0 1 1 1 0 0 0]\n",
      "Pred: [0 0 0 0 0 1 0 1 0 1 1 0 0 0 1 1 0 1 1 1]\n"
     ]
    }
   ],
   "source": [
    "# Mostra as primeiras 20 respostas verdadeiras e previstas\n",
    "print('True:', y_test.values[0:20])\n",
    "print('Pred:', y_pred_class[0:20])"
   ]
  },
  {
   "cell_type": "markdown",
   "id": "7b12a66f",
   "metadata": {},
   "source": [
    "**Conclusão**:\n",
    "\n",
    "   - A acurácia (accuracy) da classificação é a **métrica mais fácil de entender**;\n",
    "   - Mas, não informa a **distribuição subjacente** dos valores de resposta;\n",
    "   - E também quais **\"tipos\" de erros** seu classificador está cometendo."
   ]
  },
  {
   "cell_type": "markdown",
   "id": "67de6fb4",
   "metadata": {},
   "source": [
    "### Confusion matrix\n",
    "\n",
    "Tabela que descreve o desempenho de um modelo de classificação"
   ]
  },
  {
   "cell_type": "code",
   "execution_count": 14,
   "id": "118122c6",
   "metadata": {},
   "outputs": [
    {
     "name": "stdout",
     "output_type": "stream",
     "text": [
      "[[25 12]\n",
      " [ 4 19]]\n"
     ]
    }
   ],
   "source": [
    "# Primeiro argumento são valores verdadeiros, segundo argumento são valores previstos\n",
    "print(confusion_matrix(y_test, y_pred_class))"
   ]
  },
  {
   "cell_type": "code",
   "execution_count": 15,
   "id": "1933c983",
   "metadata": {},
   "outputs": [
    {
     "data": {
      "image/png": "[encoded data removed]",
      "text/plain": [
       "<Figure size 640x480 with 2 Axes>"
      ]
     },
     "metadata": {},
     "output_type": "display_data"
    }
   ],
   "source": [
    "cm = confusion_matrix(y_test, y_pred_class, labels=knn.classes_)\n",
    "disp = ConfusionMatrixDisplay(confusion_matrix=cm, display_labels=knn.classes_)\n",
    "disp.plot()\n",
    "plt.show()"
   ]
  },
  {
   "cell_type": "markdown",
   "id": "b70e389c",
   "metadata": {},
   "source": [
    "- Cada observação no conjunto de teste é representada em exatamente uma entrada;\n",
    "- É uma matriz 2x2 porque existem 2 classes de resposta.\n",
    "\n",
    "**Nomenclatura básica**\n",
    "\n",
    "- Verdadeiro Positivos (TP) (*True Positives*): Nós previmos que o processo adequado (label 1) foi predito de forma correta;\n",
    "- Verdadeiro Negativos (TN) (*True Negatives*): Nós previmos que o processo não-adequado (label 0) foi predito de forma correta;\n",
    "- Falso Positivos (FP) (*False Positives*): Nós previmos que o processo adequado (label 1) foi predito de forma errada;\n",
    "- Falso Negativos (FN) (*False Negatives*)): Nós previmos que o processo não-adequado (label 0) foi predito de forma errada.\n",
    "\n",
    "<p align=\"left\" width=\"100%\">\n",
    "    <img width=\"55%\" src=\"images/confusion_matrix.jpg\"> \n",
    "</p>\n"
   ]
  },
  {
   "cell_type": "code",
   "execution_count": 16,
   "id": "137ca421",
   "metadata": {},
   "outputs": [],
   "source": [
    "# Podemos associar cada entrada da matriz de confusão em 4 variáveis\n",
    "confusion = confusion_matrix(y_test, y_pred_class)\n",
    "TP = confusion[1, 1]\n",
    "TN = confusion[0, 0]\n",
    "FP = confusion[0, 1]\n",
    "FN = confusion[1, 0]"
   ]
  },
  {
   "cell_type": "markdown",
   "id": "1b3f6190",
   "metadata": {},
   "source": [
    "### Métricas calculadas a partir da matriz de confusão\n",
    "\n",
    "**Acurácia de classificação (Classification Accuracy)**: Indica uma performance geral do modelo. Dentre todas as classificações, quantas o modelo classificou corretamente;"
   ]
  },
  {
   "cell_type": "code",
   "execution_count": 17,
   "id": "12d58522",
   "metadata": {},
   "outputs": [
    {
     "name": "stdout",
     "output_type": "stream",
     "text": [
      "0.7333333333333333\n",
      "0.7333333333333333\n"
     ]
    }
   ],
   "source": [
    "print((TP + TN) / (TP + TN + FP + FN))\n",
    "print(accuracy_score(y_test, y_pred_class))"
   ]
  },
  {
   "cell_type": "markdown",
   "id": "38ecfbff",
   "metadata": {},
   "source": [
    "**Precisão (Precision)**: Das classificações de classe positiva que o modelo previu, quantas estão corretas? Quão \"preciso\" é o classificador ao prever classes positivas?"
   ]
  },
  {
   "cell_type": "code",
   "execution_count": 18,
   "id": "9c88551a",
   "metadata": {},
   "outputs": [
    {
     "name": "stdout",
     "output_type": "stream",
     "text": [
      "0.6129032258064516\n",
      "0.6129032258064516\n"
     ]
    }
   ],
   "source": [
    "print(TP / (TP + FP))\n",
    "print(precision_score(y_test, y_pred_class))"
   ]
  },
  {
   "cell_type": "markdown",
   "id": "ffafc56e",
   "metadata": {},
   "source": [
    "**Recall/Revocação/Sensibilidade**: Dentre todas as situações de classe positiva como **valor esperado**, quantas estão corretas? Quão \"sensível\" é o classificador para detectar instâncias positivas?"
   ]
  },
  {
   "cell_type": "code",
   "execution_count": 19,
   "id": "65d095b8",
   "metadata": {},
   "outputs": [
    {
     "name": "stdout",
     "output_type": "stream",
     "text": [
      "0.8260869565217391\n",
      "0.8260869565217391\n"
     ]
    }
   ],
   "source": [
    "print(TP / (TP + FN))\n",
    "print(recall_score(y_test, y_pred_class))"
   ]
  },
  {
   "cell_type": "markdown",
   "id": "7887f6eb",
   "metadata": {},
   "source": [
    "**F1 score**: Pode ser interpretada como uma média harmônica de precisão e recall, onde uma pontuação F1 atinge seu melhor valor em 1 e pior pontuação em 0. A contribuição relativa de precisão e recall para a pontuação F1 é igual."
   ]
  },
  {
   "cell_type": "code",
   "execution_count": 20,
   "id": "500d454a",
   "metadata": {},
   "outputs": [
    {
     "name": "stdout",
     "output_type": "stream",
     "text": [
      "0.7037037037037037\n",
      "0.7037037037037037\n"
     ]
    }
   ],
   "source": [
    "precision = TP / (TP + FP)\n",
    "recall = TP / (TP + FN)\n",
    "print(2 * (precision * recall) / (precision + recall))\n",
    "print(f1_score(y_test, y_pred_class))"
   ]
  },
  {
   "cell_type": "code",
   "execution_count": 21,
   "id": "bf4bc9e1",
   "metadata": {},
   "outputs": [
    {
     "name": "stdout",
     "output_type": "stream",
     "text": [
      "              precision    recall  f1-score   support\n",
      "\n",
      "           0       0.86      0.68      0.76        37\n",
      "           1       0.61      0.83      0.70        23\n",
      "\n",
      "    accuracy                           0.73        60\n",
      "   macro avg       0.74      0.75      0.73        60\n",
      "weighted avg       0.77      0.73      0.74        60\n",
      "\n"
     ]
    }
   ],
   "source": [
    "# Relatórios com as principais métricas de classificação\n",
    "print(classification_report(y_test, y_pred_class))"
   ]
  },
  {
   "cell_type": "markdown",
   "id": "0cafaf44",
   "metadata": {},
   "source": [
    "**Conclusões**\n",
    "\n",
    "- A matriz de confusão fornece uma imagem mais completa do desempenho do classificador adotado;\n",
    "- E a partir dessa matriz é possível calcular algumas métricas de classificação que podem nos guiar na seleção do modelo."
   ]
  }
 ],
 "metadata": {
  "kernelspec": {
   "display_name": "Python 3 (ipykernel)",
   "language": "python",
   "name": "python3"
  },
  "language_info": {
   "codemirror_mode": {
    "name": "ipython",
    "version": 3
   },
   "file_extension": ".py",
   "mimetype": "text/x-python",
   "name": "python",
   "nbconvert_exporter": "python",
   "pygments_lexer": "ipython3",
   "version": "3.8.5"
  }
 },
 "nbformat": 4,
 "nbformat_minor": 5
}
